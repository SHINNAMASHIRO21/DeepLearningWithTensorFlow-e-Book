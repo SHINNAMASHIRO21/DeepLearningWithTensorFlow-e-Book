{
 "cells": [
  {
   "cell_type": "markdown",
   "metadata": {},
   "source": [
    "\n",
    "# Performing Matrix Manipulations\n",
    "\n",
    "Matrix manipulation such as performing multiplication, addition, substraction, and imoirtant operations in the propagation of signals in any Neural Network.\n",
    "\n",
    "### Bellow is the Reciepe to get Defferent Types of Metrices and Perform to Defferent Matrix Manipulation \n",
    "\n",
    "<br>"
   ]
  },
  {
   "cell_type": "code",
   "execution_count": 82,
   "metadata": {},
   "outputs": [],
   "source": [
    "import tensorflow as tf"
   ]
  },
  {
   "cell_type": "code",
   "execution_count": 83,
   "metadata": {},
   "outputs": [
    {
     "name": "stderr",
     "output_type": "stream",
     "text": [
      "/home/ubuntu/anaconda3/lib/python3.6/site-packages/tensorflow/python/client/session.py:1645: UserWarning: An interactive session is already active. This can cause out-of-memory errors in some cases. You must explicitly call `InteractiveSession.close()` to release resources held by the other session(s).\n",
      "  warnings.warn('An interactive session is already active. This can '\n"
     ]
    }
   ],
   "source": [
    "# start interrative session\n",
    "sess = tf.InteractiveSession()"
   ]
  },
  {
   "cell_type": "code",
   "execution_count": 84,
   "metadata": {},
   "outputs": [
    {
     "name": "stdout",
     "output_type": "stream",
     "text": [
      "[[1. 0. 0. 0. 0.]\n",
      " [0. 1. 0. 0. 0.]\n",
      " [0. 0. 1. 0. 0.]\n",
      " [0. 0. 0. 1. 0.]\n",
      " [0. 0. 0. 0. 1.]]\n"
     ]
    }
   ],
   "source": [
    "# Define a 5x5 identity matrix\n",
    "I_matrix = tf.eye(5)\n",
    "print(I_matrix.eval())"
   ]
  },
  {
   "cell_type": "code",
   "execution_count": 85,
   "metadata": {},
   "outputs": [
    {
     "name": "stdout",
     "output_type": "stream",
     "text": [
      "[[1. 0. 0. 0. 0. 0. 0. 0. 0. 0.]\n",
      " [0. 1. 0. 0. 0. 0. 0. 0. 0. 0.]\n",
      " [0. 0. 1. 0. 0. 0. 0. 0. 0. 0.]\n",
      " [0. 0. 0. 1. 0. 0. 0. 0. 0. 0.]\n",
      " [0. 0. 0. 0. 1. 0. 0. 0. 0. 0.]\n",
      " [0. 0. 0. 0. 0. 1. 0. 0. 0. 0.]\n",
      " [0. 0. 0. 0. 0. 0. 1. 0. 0. 0.]\n",
      " [0. 0. 0. 0. 0. 0. 0. 1. 0. 0.]\n",
      " [0. 0. 0. 0. 0. 0. 0. 0. 1. 0.]\n",
      " [0. 0. 0. 0. 0. 0. 0. 0. 0. 1.]]\n"
     ]
    }
   ],
   "source": [
    "# Define a variable initialized to a 10x10 identity matrix\n",
    "X = tf.Variable(tf.eye(10))\n",
    "X.initializer.run()                # initialize the variable\n",
    "print(X.eval())                    # print and evaluate the matrix result"
   ]
  },
  {
   "cell_type": "code",
   "execution_count": 86,
   "metadata": {},
   "outputs": [],
   "source": [
    "# Create a random matrix 5x10\n",
    "A = tf.Variable(tf.random_normal([5, 10]))\n",
    "A.initializer.run()"
   ]
  },
  {
   "cell_type": "code",
   "execution_count": 87,
   "metadata": {},
   "outputs": [
    {
     "name": "stdout",
     "output_type": "stream",
     "text": [
      "[[ 0.3884052  -0.20071217  0.7077306  -1.0082042  -0.80432737 -0.2817233\n",
      "  -0.2755039   0.9907699   1.4530596   0.9548414 ]\n",
      " [-1.1248279  -0.6529643  -1.3081189   0.16997091  0.44064733 -0.69650775\n",
      "  -0.29731524 -1.4583848   0.4190129  -0.9973541 ]\n",
      " [-0.43917242 -1.2171772  -0.56984556 -0.97388965 -1.8356453  -0.28943956\n",
      "   1.3302768  -0.51041615 -1.0522984   0.2611218 ]\n",
      " [-0.07096083 -1.6746392   1.712338   -0.48687685 -1.0357969  -0.9821703\n",
      "   0.6665854  -0.60496664  0.9915173   0.30854774]\n",
      " [ 0.43853614  0.00453601  1.1273719   0.22033477 -2.141151   -0.86472774\n",
      "  -0.87512803 -0.25846988  0.6987238  -0.7903361 ]]\n"
     ]
    }
   ],
   "source": [
    "# Multiply 2 matrices\n",
    "product = tf.matmul(A, X)\n",
    "print(product.eval())"
   ]
  },
  {
   "cell_type": "code",
   "execution_count": 88,
   "metadata": {},
   "outputs": [
    {
     "name": "stdout",
     "output_type": "stream",
     "text": [
      "[[0 1 1 1 0 0 1 0 1 0]\n",
      " [1 0 0 1 1 0 0 0 1 1]\n",
      " [0 1 0 1 1 0 1 0 1 0]\n",
      " [0 0 0 1 0 0 0 0 0 0]\n",
      " [1 1 0 0 0 1 0 1 0 0]]\n"
     ]
    }
   ],
   "source": [
    "# Create random matrix of 1s and 0s, size 5x10\n",
    "b = tf.Variable(tf.random_uniform([5, 10], 0, 2, dtype = tf.int32))\n",
    "b.initializer.run()\n",
    "print(b.eval())\n",
    "b_new = tf.cast(b, dtype = tf.float32)                # Cast or convert to float32 data type"
   ]
  },
  {
   "cell_type": "code",
   "execution_count": 89,
   "metadata": {},
   "outputs": [
    {
     "name": "stdout",
     "output_type": "stream",
     "text": [
      "A * X _b\n",
      " [[ 0.3884052   0.7992878   1.7077305  -0.00820422 -0.80432737 -0.2817233\n",
      "   0.7244961   0.9907699   2.4530597   0.9548414 ]\n",
      " [-0.12482786 -0.6529643  -1.3081189   1.1699709   1.4406474  -0.69650775\n",
      "  -0.29731524 -1.4583848   1.4190129   0.00264591]\n",
      " [-0.43917242 -0.21717715 -0.56984556  0.02611035 -0.8356453  -0.28943956\n",
      "   2.330277   -0.51041615 -0.05229843  0.2611218 ]\n",
      " [-0.07096083 -1.6746392   1.712338    0.51312315 -1.0357969  -0.9821703\n",
      "   0.6665854  -0.60496664  0.9915173   0.30854774]\n",
      " [ 1.4385362   1.004536    1.1273719   0.22033477 -2.141151    0.13527226\n",
      "  -0.87512803  0.7415301   0.6987238  -0.7903361 ]]\n",
      "\n",
      "\n",
      "A * X _b\n",
      " [[ 0.3884052  -1.2007122  -0.2922694  -2.0082042  -0.80432737 -0.2817233\n",
      "  -1.2755039   0.9907699   0.45305955  0.9548414 ]\n",
      " [-2.1248279  -0.6529643  -1.3081189  -0.8300291  -0.55935264 -0.69650775\n",
      "  -0.29731524 -1.4583848  -0.5809871  -1.997354  ]\n",
      " [-0.43917242 -2.2171772  -0.56984556 -1.9738896  -2.8356452  -0.28943956\n",
      "   0.33027685 -0.51041615 -2.0522985   0.2611218 ]\n",
      " [-0.07096083 -1.6746392   1.712338   -1.4868768  -1.0357969  -0.9821703\n",
      "   0.6665854  -0.60496664  0.9915173   0.30854774]\n",
      " [-0.56146383 -0.99546397  1.1273719   0.22033477 -2.141151   -1.8647277\n",
      "  -0.87512803 -1.2584698   0.6987238  -0.7903361 ]]\n"
     ]
    }
   ],
   "source": [
    "# add the two matrices\n",
    "t_sum = tf.add(product, b_new)\n",
    "t_sub = product - b_new\n",
    "print(\"A * X _b\\n\", t_sum.eval())\n",
    "print(\"\\n\")\n",
    "print(\"A * X _b\\n\", t_sub.eval())"
   ]
  },
  {
   "cell_type": "markdown",
   "metadata": {},
   "source": [
    "## Another way to manipulate matrix"
   ]
  },
  {
   "cell_type": "code",
   "execution_count": 90,
   "metadata": {},
   "outputs": [],
   "source": [
    "# create two random metrices\n",
    "a = tf.Variable(tf.random_normal([4, 5], stddev = 2))\n",
    "b = tf.Variable(tf.random_normal([4, 5], stddev = 2))"
   ]
  },
  {
   "cell_type": "code",
   "execution_count": 91,
   "metadata": {},
   "outputs": [],
   "source": [
    "# element wise multiplication\n",
    "A = a * b"
   ]
  },
  {
   "cell_type": "code",
   "execution_count": 92,
   "metadata": {},
   "outputs": [],
   "source": [
    "# multiplication with a scalar 2\n",
    "B = tf.scalar_mul(2, A)"
   ]
  },
  {
   "cell_type": "code",
   "execution_count": 93,
   "metadata": {},
   "outputs": [],
   "source": [
    "# element wise devision, its result is\n",
    "C = tf.div(a, b)\n",
    "C_td = tf.truediv(a, b)"
   ]
  },
  {
   "cell_type": "code",
   "execution_count": 94,
   "metadata": {},
   "outputs": [],
   "source": [
    "# element wise remainder of devision\n",
    "D = tf.mod(a, b)"
   ]
  },
  {
   "cell_type": "code",
   "execution_count": 95,
   "metadata": {
    "scrolled": false
   },
   "outputs": [
    {
     "name": "stdout",
     "output_type": "stream",
     "text": [
      "a\n",
      " [[-2.0304248   2.664809    2.030393   -1.1922994  -4.747106  ]\n",
      " [ 2.7072139  -0.77451897  2.202923   -0.00923556  0.91440624]\n",
      " [ 2.3311636  -0.78322816  0.15427448 -0.67948097  1.5896238 ]\n",
      " [-1.3588177  -1.7344939  -0.44344935 -1.535561    2.1635058 ]] \n",
      "b\n",
      " [[-2.6920936  -1.919947    1.0417008  -0.8933185   0.452902  ]\n",
      " [ 2.8179696  -3.0387573  -1.5328101  -1.0069878  -1.0512807 ]\n",
      " [ 2.4982374   1.0281675  -1.4869343   2.2904055   1.2379968 ]\n",
      " [ 0.9647091  -0.91824627 -0.86041325  0.62466276  1.1606636 ]] \n",
      "a*b\n",
      " [[ 5.4660935  -5.116292    2.115062    1.065103   -2.1499739 ]\n",
      " [ 7.628846    2.3535752  -3.3766627   0.00930009 -0.9612977 ]\n",
      " [ 5.8238     -0.80528975 -0.22939602 -1.5562869   1.9679493 ]\n",
      " [-1.3108639   1.5926925   0.3815497  -0.9592078   2.5111024 ]] \n",
      "2*a*b\n",
      " [[ 10.932187   -10.232584     4.230124     2.130206    -4.2999477 ]\n",
      " [ 15.257692     4.7071505   -6.7533255    0.01860018  -1.9225954 ]\n",
      " [ 11.6476      -1.6105795   -0.45879203  -3.1125739    3.9358985 ]\n",
      " [ -2.6217277    3.185385     0.7630994   -1.9184155    5.022205  ]] \n",
      "a/b\n",
      " [[ 7.54217744e-01 -1.38795960e+00  1.94911325e+00  1.33468568e+00\n",
      "  -1.04815302e+01]\n",
      " [ 9.60696638e-01  2.54880160e-01 -1.43717933e+00  9.17146727e-03\n",
      "  -8.69802117e-01]\n",
      " [ 9.33123350e-01 -7.61770964e-01 -1.03753395e-01 -2.96664059e-01\n",
      "   1.28402901e+00]\n",
      " [-1.40852582e+00  1.88892007e+00  5.15391111e-01 -2.45822406e+00\n",
      "   1.86402488e+00]] \n",
      "TrueDivision of a/b \n",
      " [[ 7.54217744e-01 -1.38795960e+00  1.94911325e+00  1.33468568e+00\n",
      "  -1.04815302e+01]\n",
      " [ 9.60696638e-01  2.54880160e-01 -1.43717933e+00  9.17146727e-03\n",
      "  -8.69802117e-01]\n",
      " [ 9.33123350e-01 -7.61770964e-01 -1.03753395e-01 -2.96664059e-01\n",
      "   1.28402901e+00]\n",
      " [-1.40852582e+00  1.88892007e+00  5.15391111e-01 -2.45822406e+00\n",
      "   1.86402488e+00]] \n",
      "a%b\n",
      " [[-2.0304248  -1.1750851   0.98869205 -0.2989809   0.2348158 ]\n",
      " [ 2.7072139  -0.77451897 -0.8626971  -0.00923556 -0.1368745 ]\n",
      " [ 2.3311636   0.24493933 -1.3326598   1.6109245   0.351627  ]\n",
      " [ 0.5706005  -0.8162476  -0.44344935  0.3384273   1.0028422 ]]\n"
     ]
    }
   ],
   "source": [
    "init_op = tf.global_variables_initializer()\n",
    "with tf.Session() as sess:\n",
    "    sess.run(init_op)\n",
    "    writer = tf.summary.FileWriter('graphs', sess.graph)\n",
    "    a,b,A_R, B_R, C_R, C_TD, D_R = sess.run([a, b, A, B, C, C_td, D])\n",
    "    print(\"a\\n\", a, \"\\nb\\n\", b, \"\\na*b\\n\", A_R, \"\\n2*a*b\\n\", B_R, \"\\na/b\\n\", C_R, \"\\nTrueDivision of a/b \\n\", C_TD, \"\\na%b\\n\", D_R)\n",
    "writer.close()"
   ]
  },
  {
   "cell_type": "markdown",
   "metadata": {},
   "source": [
    "# Using a Data Flow Grpah [TensorBoard]"
   ]
  },
  {
   "cell_type": "code",
   "execution_count": 103,
   "metadata": {},
   "outputs": [],
   "source": [
    "# Make a normal distribution, with a shifting mean\n",
    "mean_moving_normal = tf.random_normal(shape=[1000], mean=(5*k), stddev=1)\n",
    "# Record that distribution into a histogram summary\n",
    "tf.summary.histogram(\"normal/moving_mean\", mean_moving_normal)\n",
    "\n",
    "# Make a normal distribution with shrinking variance\n",
    "variance_shrinking_normal = tf.random_normal(shape=[1000], mean=0, stddev=1-(k))\n",
    "# Record that distribution too\n",
    "tf.summary.histogram(\"normal/shrinking_variance\", variance_shrinking_normal)\n",
    "\n",
    "# Let's combine both of those distributions into one dataset\n",
    "normal_combined = tf.concat([mean_moving_normal, variance_shrinking_normal], 0)\n",
    "# We add another histogram summary to record the combined distribution\n",
    "tf.summary.histogram(\"normal/bimodal\", normal_combined)\n",
    "\n",
    "summaries = tf.summary.merge_all()\n",
    "\n",
    "# Setup a session and summary writer\n",
    "sess = tf.Session()\n",
    "writer = tf.summary.FileWriter(\"/tmp/histogram_example\")\n",
    "\n",
    "# Setup a loop and write the summaries to disk\n",
    "N = 400\n",
    "for step in range(N):\n",
    "  k_val = step/float(N)\n",
    "  summ = sess.run(summaries, feed_dict={k: k_val})\n",
    "  writer.add_summary(summ, global_step=step)\n",
    "\n",
    "\n",
    "# AFTER THIS CODE IS RUNNING THEN :\n",
    "# OPEN TERMINAL ---> tensorboard --logdir=/tmp/hiistogram_exampole"
   ]
  },
  {
   "cell_type": "markdown",
   "metadata": {},
   "source": [
    "# Using XLA \"Accelerated Linear Algebra\" to Enhance Computational Performance\n",
    "\n",
    "\n",
    "Is a doami-specific compiler for linear algebra. according https://www.tensorflow.org/performance/xla/ and can improve exceution speed, memory usage, and probability on the server and mobile platform.\n",
    "\n",
    "\n",
    "### XLA is not built-in TensorFlow, we need to build maunaly from source\n",
    "\n",
    "# SKIPED INSTALLATION"
   ]
  },
  {
   "cell_type": "code",
   "execution_count": null,
   "metadata": {},
   "outputs": [],
   "source": []
  },
  {
   "cell_type": "code",
   "execution_count": null,
   "metadata": {},
   "outputs": [],
   "source": []
  },
  {
   "cell_type": "code",
   "execution_count": null,
   "metadata": {},
   "outputs": [],
   "source": []
  },
  {
   "cell_type": "code",
   "execution_count": null,
   "metadata": {},
   "outputs": [],
   "source": []
  },
  {
   "cell_type": "code",
   "execution_count": null,
   "metadata": {},
   "outputs": [],
   "source": []
  },
  {
   "cell_type": "code",
   "execution_count": null,
   "metadata": {},
   "outputs": [],
   "source": []
  },
  {
   "cell_type": "code",
   "execution_count": null,
   "metadata": {},
   "outputs": [],
   "source": []
  },
  {
   "cell_type": "code",
   "execution_count": null,
   "metadata": {},
   "outputs": [],
   "source": []
  }
 ],
 "metadata": {
  "kernelspec": {
   "display_name": "Python 3",
   "language": "python",
   "name": "python3"
  },
  "language_info": {
   "codemirror_mode": {
    "name": "ipython",
    "version": 3
   },
   "file_extension": ".py",
   "mimetype": "text/x-python",
   "name": "python",
   "nbconvert_exporter": "python",
   "pygments_lexer": "ipython3",
   "version": "3.6.5"
  }
 },
 "nbformat": 4,
 "nbformat_minor": 2
}
