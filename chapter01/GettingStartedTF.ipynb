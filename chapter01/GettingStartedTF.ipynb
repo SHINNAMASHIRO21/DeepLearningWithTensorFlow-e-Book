{
 "cells": [
  {
   "cell_type": "code",
   "execution_count": 1,
   "metadata": {},
   "outputs": [],
   "source": [
    "import tensorflow as tf"
   ]
  },
  {
   "cell_type": "markdown",
   "metadata": {},
   "source": [
    "## .decode()\n",
    "\n",
    "is byte string. to remove string quotes and b (for bytes)"
   ]
  },
  {
   "cell_type": "code",
   "execution_count": 2,
   "metadata": {},
   "outputs": [
    {
     "name": "stdout",
     "output_type": "stream",
     "text": [
      "Hello Tesnorflow\n"
     ]
    }
   ],
   "source": [
    "hello = tf.constant('Hello Tesnorflow')\n",
    "sess = tf.Session()\n",
    "print(sess.run(hello).decode())"
   ]
  },
  {
   "cell_type": "markdown",
   "metadata": {},
   "source": [
    "## .tf.Session()\n",
    "\n",
    "define session object, we gave the name 'sess'\n",
    "\n",
    "## .run()\n",
    "\n",
    "is method define in Session class to run. and .run() wil be execute every tensor and every operation in the graph leading. \n",
    "\n",
    "## v_add, v_1, and v_2\n",
    "\n",
    "to Evaluate the tensor in 'fetches'"
   ]
  },
  {
   "cell_type": "code",
   "execution_count": 3,
   "metadata": {},
   "outputs": [],
   "source": [
    "v_1 = tf.constant([1,2,3,4])\n",
    "v_2 = tf.constant([2,1,5,3])\n",
    "\n",
    "v_add = tf.add(v_1, v_2)"
   ]
  },
  {
   "cell_type": "code",
   "execution_count": 4,
   "metadata": {},
   "outputs": [
    {
     "name": "stdout",
     "output_type": "stream",
     "text": [
      "[3 3 8 7]\n"
     ]
    }
   ],
   "source": [
    "with tf.Session() as sess1:\n",
    "    print(sess1.run(v_add))"
   ]
  },
  {
   "cell_type": "markdown",
   "metadata": {},
   "source": [
    "# OR\n",
    "\n",
    "bellow is used tf.InteractiveSession() to make itself as default session, that can run using 'eval()'"
   ]
  },
  {
   "cell_type": "code",
   "execution_count": 5,
   "metadata": {},
   "outputs": [],
   "source": [
    "sess2 = tf.InteractiveSession()"
   ]
  },
  {
   "cell_type": "code",
   "execution_count": 6,
   "metadata": {},
   "outputs": [],
   "source": [
    "v_3 = tf.constant([1,2,3,4])\n",
    "v_4 = tf.constant([2,1,5,3])\n",
    "\n",
    "v_add2 = tf.add(v_3, v_4)"
   ]
  },
  {
   "cell_type": "code",
   "execution_count": 7,
   "metadata": {},
   "outputs": [
    {
     "name": "stdout",
     "output_type": "stream",
     "text": [
      "[3 3 8 7]\n"
     ]
    }
   ],
   "source": [
    "print(v_add2.eval())\n",
    "sess2.close()"
   ]
  },
  {
   "cell_type": "markdown",
   "metadata": {},
   "source": [
    "# Constant, Variable and Placeholder\n",
    "\n",
    "<ul>\n",
    "    <li>Constant</li>\n",
    "    \n",
    "    Are the tensors whose values can't be changes\n",
    "    <li>Varieble</li>\n",
    "    variable is used when the values require updateing within a session.\n",
    "    <li>PLaceholder</li>\n",
    "    These are used to feed values into a tensorflow graph. used along with feed_dict\n",
    "</ul>\n",
    "\n",
    "\n",
    "# Tensor Data Type\n",
    "\n",
    "<br>\n",
    "<table align='left'>\n",
    "    <tr>\n",
    "        <td>Types of Data</td>\n",
    "        <td>Tensor</td>\n",
    "        <td>Shape</td>\n",
    "    </tr>\n",
    "        <tr>\n",
    "        <td>Scala</td>\n",
    "        <td>0-D Tensor</td>\n",
    "        <td>[]</td>\n",
    "    </tr>\n",
    "        <tr>\n",
    "        <td>Vector</td>\n",
    "        <td>1-D Tensor</td>\n",
    "        <td>[D0]</td>\n",
    "    </tr>\n",
    "        <tr>\n",
    "        <td>Matrix</td>\n",
    "        <td>2-D Tensor</td>\n",
    "        <td>[D0,D1]</td>\n",
    "    </tr>\n",
    "        <tr>\n",
    "        <td>Tensors</td>\n",
    "        <td>N-D Tensors</td>\n",
    "        <td>[D0, D1, ...Dn-1]</td>\n",
    "    </tr>\n",
    "</table>\n",
    "<br><br><br><br><br><br><br><br>\n",
    "\n",
    "# Ho to Do it?\n",
    "\n",
    "## Constant"
   ]
  },
  {
   "cell_type": "code",
   "execution_count": 8,
   "metadata": {},
   "outputs": [
    {
     "data": {
      "text/plain": [
       "<tf.Tensor 'zeros:0' shape=(1, 2) dtype=int32>"
      ]
     },
     "execution_count": 8,
     "metadata": {},
     "output_type": "execute_result"
    }
   ],
   "source": [
    "# declare scalar constant\n",
    "t_1 = tf.constant(4)\n",
    "t_2 = tf.constant([4,3,2])\n",
    "\n",
    "# create tensor with all element zero use 'tf.zeros()' and create zero \n",
    "# marix of shape [M, N] with dtype(int32, float32, adn so on)\n",
    "tf.zeros([1,2], tf.int32)"
   ]
  },
  {
   "cell_type": "code",
   "execution_count": 9,
   "metadata": {
    "scrolled": false
   },
   "outputs": [
    {
     "data": {
      "text/plain": [
       "<tf.Tensor 'ones_like:0' shape=(3,) dtype=int32>"
      ]
     },
     "execution_count": 9,
     "metadata": {},
     "output_type": "execute_result"
    }
   ],
   "source": [
    "tf.zeros_like(t_2)\n",
    "tf.ones_like(t_2)"
   ]
  },
  {
   "cell_type": "code",
   "execution_count": 10,
   "metadata": {},
   "outputs": [
    {
     "name": "stdout",
     "output_type": "stream",
     "text": [
      "Tensor(\"ones:0\", shape=(2, 3), dtype=int32)\n"
     ]
    }
   ],
   "source": [
    "ones_t = tf.ones([2,3],tf.int32)\n",
    "print(ones_t)"
   ]
  },
  {
   "cell_type": "markdown",
   "metadata": {},
   "source": [
    "## Variable\n",
    "\n",
    "    Make variable t_a and t_b, and will be initialized to random uniform distributions of shape [50, 50], 'minval=0' and 'maxval=10'"
   ]
  },
  {
   "cell_type": "code",
   "execution_count": 11,
   "metadata": {},
   "outputs": [],
   "source": [
    "rand_t = tf.random_uniform([50, 50], 0, 10, seed=0)\n",
    "t_a = tf.Variable(rand_t)\n",
    "t_b = tf.Variable(rand_t)\n",
    "\n",
    "# optional argument name to give a name to the variable defined in the computational graph\n",
    "weights = tf.Variable(tf.random_normal([100, 100], stddev=2))\n",
    "# specify variable to be initialized from another variable\n",
    "weight2 = tf.Variable(weights.initialized_value(), name='w2')\n",
    "\n",
    "# declaring an initilizer operation to initialize specify variable\n",
    "initial_op = tf.global_variables_initializer()\n",
    "\n",
    "# Or initialize each variable separately\n",
    "'''\n",
    "bias = tf.Variable(tf.zeros([100, 100]))\n",
    "with tf.Session() as sess :\n",
    "    sess.run(bias.initializer)\n",
    "'''\n",
    "\n",
    "# To Saving Variables\n",
    "saver = tf.train.Saver()"
   ]
  },
  {
   "cell_type": "markdown",
   "metadata": {},
   "source": [
    "## Placeholder\n",
    "\n",
    "Used to feed data to graph. we can define placeholder as following :"
   ]
  },
  {
   "cell_type": "code",
   "execution_count": 12,
   "metadata": {},
   "outputs": [
    {
     "data": {
      "text/plain": [
       "<tf.Tensor 'Placeholder:0' shape=<unknown> dtype=float32>"
      ]
     },
     "execution_count": 12,
     "metadata": {},
     "output_type": "execute_result"
    }
   ],
   "source": [
    "tf.placeholder(tf.float32, shape=None, name=None)"
   ]
  },
  {
   "cell_type": "markdown",
   "metadata": {},
   "source": [
    "### Anothe Example of Placeholder using declaring specified placeholder"
   ]
  },
  {
   "cell_type": "code",
   "execution_count": 13,
   "metadata": {},
   "outputs": [
    {
     "name": "stdout",
     "output_type": "stream",
     "text": [
      "[[ 6.0375185 13.262527   9.208321  14.060491  19.48091  ]\n",
      " [17.816381   4.050087  19.590218   3.0160255 10.592232 ]\n",
      " [18.511992  13.3952465  6.6026297 18.351429   7.433402 ]\n",
      " [15.106357   3.767496  12.892426  14.251852  19.12533  ]]\n"
     ]
    }
   ],
   "source": [
    "x = tf.placeholder(\"float\")\n",
    "y = 2 * x\n",
    "\n",
    "data = tf.random_uniform([4,5], 10)\n",
    "\n",
    "with tf.Session() as sess :\n",
    "    x_data = sess.run(data)\n",
    "    print(sess.run(y, feed_dict = {x:x_data}))"
   ]
  },
  {
   "cell_type": "markdown",
   "metadata": {},
   "source": [
    "# There's More ...\n",
    "\n",
    "<strong>To optimize Memory used constant objects with large size, is Better to declare them as Variable with trainable flag set to 'False'</strong>\n",
    "\n",
    "Example :\n",
    "t_large = tf.Variable(LARGE_ARRAY_HERE, trainable = False)\n",
    "\n",
    "<table align='left'>\n",
    "    <tr>\n",
    "        <td>Data Type</td>\n",
    "        <td>TensorFlow Type</td>\n",
    "    </tr>\n",
    "    <tr>\n",
    "        <td>DT_FLOAT</td>\n",
    "        <td>tf.float32</td>\n",
    "    </tr>\n",
    "    <tr>\n",
    "        <td>DT_DOUBLE</td>\n",
    "        <td>tf.float64</td>\n",
    "    </tr>\n",
    "    <tr>\n",
    "        <td>DT_INTB</td>\n",
    "        <td>tf.int8</td>\n",
    "    </tr>\n",
    "    <tr>\n",
    "        <td>DT_UINT8</td>\n",
    "        <td>tf.uint8</td>\n",
    "    </tr>\n",
    "    <tr>\n",
    "        <td>DT_STRING</td>\n",
    "        <td>tf.string</td>\n",
    "    </tr>\n",
    "    <tr>\n",
    "        <td>DT_BOOL</td>\n",
    "        <td>tf.bool</td>\n",
    "    </tr>\n",
    "    <tr>\n",
    "        <td>DT_COMPLEX64</td>\n",
    "        <td>tf.complex64</td>\n",
    "    </tr>\n",
    "    <tr>\n",
    "        <td>DT_QINT32</td>\n",
    "        <td>tf.qint32</td>\n",
    "    </tr>\n",
    "</table>\n",
    "<br><br><br><br><br><br><br><br>\n"
   ]
  }
 ],
 "metadata": {
  "kernelspec": {
   "display_name": "Python 3",
   "language": "python",
   "name": "python3"
  },
  "language_info": {
   "codemirror_mode": {
    "name": "ipython",
    "version": 3
   },
   "file_extension": ".py",
   "mimetype": "text/x-python",
   "name": "python",
   "nbconvert_exporter": "python",
   "pygments_lexer": "ipython3",
   "version": "3.5.2"
  }
 },
 "nbformat": 4,
 "nbformat_minor": 2
}
